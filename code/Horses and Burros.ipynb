{
 "cells": [
  {
   "cell_type": "markdown",
   "metadata": {},
   "source": [
    "# Modeling and Simulation in Python\n",
    "\n",
    "Rabbit example\n",
    "\n",
    "Copyright 2017 Allen Downey\n",
    "\n",
    "License: [Creative Commons Attribution 4.0 International](https://creativecommons.org/licenses/by/4.0)\n"
   ]
  },
  {
   "cell_type": "code",
   "execution_count": 32,
   "metadata": {
    "collapsed": true
   },
   "outputs": [],
   "source": [
    "# If you want the figures to appear in the notebook, \n",
    "# and you want to interact with them, use\n",
    "# %matplotlib notebook\n",
    "\n",
    "# If you want the figures to appear in the notebook, \n",
    "# and you don't want to interact with them, use\n",
    "# %matplotlib inline\n",
    "\n",
    "# If you want the figures to appear in separate windows, use\n",
    "# %matplotlib qt5\n",
    "\n",
    "# To switch from one to another, you have to select Kernel->Restart\n",
    "\n",
    "%matplotlib inline\n",
    "\n",
    "from modsim import *\n",
    "import numpy as np \n",
    "import pandas as pd"
   ]
  },
  {
   "cell_type": "markdown",
   "metadata": {},
   "source": [
    "This notebook develops a simple growth model, like the ones in Chapter 3, and uses it to demonstrate a parameter sweep.\n",
    "\n",
    "The system we'll model is a rabbit farm.  Suppose you start with an initial population of rabbits and let them breed.  For simplicity, we'll assume that all rabbits are on the same breeding cycle, and we'll measure time in \"seasons\", where a season is the reproductive time of a rabbit.\n",
    "\n",
    "If we provide all the food, space and other resources a rabbit might need, we expect the number of new rabbits each season to be proportional to the current population, controlled by a parameter, `birth_rate`, that represents the number of new rabbits per existing rabbit, per season.  As a starting place, I'll assume `birth_rate = 0.9`.\n",
    "\n",
    "Sadly, during each season, some proportion of the rabbits die.  In a detailed model, we might keep track of each rabbit's age, because the chance of dying is probably highest for young and old rabbits, and lowest in between.  But for simplicity, we'll model the death process with a single parameter, `death_rate`, that represent the number\n",
    "of deaths per rabbit per season.   As a starting place, I'll assume `death_rate = 0.5`.\n",
    "\n",
    "Here's a system object that contains these parameters as well as:\n",
    "\n",
    "* The initial population, `p0`,\n",
    "* The initial time, `t0`, and\n",
    "* The duration of the simulation, `t_end`, measured in seasons."
   ]
  },
  {
   "cell_type": "code",
   "execution_count": 33,
   "metadata": {},
   "outputs": [
    {
     "data": {
      "text/plain": [
       "'\\npop=pd.read_csv(\"C:/ModSim/Population.csv\", header=0, index_col=0)\\nprint(pop)\\n\\nrem=pd.read_csv(\"C:/ModSim/Removed.csv\", header=0, index_col=0)\\nprint(rem)\\n\\nspy=pd.read_csv(\"C:/ModSim/Spayed.csv\", header=0, index_col=0)\\nprint(spy)\\n'"
      ]
     },
     "execution_count": 33,
     "metadata": {},
     "output_type": "execute_result"
    }
   ],
   "source": [
    "#files on naomi's computer here \n",
    "'''\n",
    "pop=pd.read_csv(\"C:/ModSim/Population.csv\", header=0, index_col=0)\n",
    "print(pop)\n",
    "\n",
    "rem=pd.read_csv(\"C:/ModSim/Removed.csv\", header=0, index_col=0)\n",
    "print(rem)\n",
    "\n",
    "spy=pd.read_csv(\"C:/ModSim/Spayed.csv\", header=0, index_col=0)\n",
    "print(spy)\n",
    "'''"
   ]
  },
  {
   "cell_type": "code",
   "execution_count": 34,
   "metadata": {},
   "outputs": [
    {
     "data": {
      "text/plain": [
       "'\\npopulation = pop.pop\\npop.head()\\n\\nremoved = rem.Removed\\nrem.head()\\n'"
      ]
     },
     "execution_count": 34,
     "metadata": {},
     "output_type": "execute_result"
    }
   ],
   "source": [
    "'''\n",
    "population = pop.pop\n",
    "pop.head()\n",
    "\n",
    "removed = rem.Removed\n",
    "rem.head()\n",
    "'''"
   ]
  },
  {
   "cell_type": "code",
   "execution_count": 36,
   "metadata": {
    "scrolled": false
   },
   "outputs": [
    {
     "name": "stdout",
     "output_type": "stream",
     "text": [
      "       population  spayed  removed\n",
      "year                              \n",
      "2017      72674.0     NaN      NaN\n",
      "2016          NaN   487.0   3259.0\n",
      "2015      58150.0   469.0   3812.0\n",
      "2014      49209.0    40.0   1857.0\n",
      "2013      40605.0   332.0   5452.0\n",
      "2012      37294.0   952.0   8255.0\n",
      "2011      38497.0   791.0   8529.0\n",
      "2010      38365.0   429.0   7291.0\n",
      "2009      36940.0     NaN   6036.0\n",
      "2008      33105.0     NaN      NaN\n",
      "2007      28563.0     NaN      NaN\n",
      "2006      31206.0     NaN      NaN\n",
      "2005      31760.0     NaN      NaN\n",
      "2004      37135.0     NaN      NaN\n",
      "2003      37186.0     NaN      NaN\n",
      "2002      38815.0     NaN      NaN\n",
      "2001      45414.0     NaN      NaN\n",
      "2000      48624.0     NaN      NaN\n",
      "1999      47376.0     NaN      NaN\n",
      "1998      44495.0     NaN      NaN\n",
      "1997      43036.0     NaN      NaN\n",
      "1996      42138.0     NaN      NaN\n"
     ]
    }
   ],
   "source": [
    "data=pd.read_csv(\"~/documents/github/modsimpy/data.csv\", header = 0, index_col = 0)\n",
    "print(data)"
   ]
  },
  {
   "cell_type": "code",
   "execution_count": 37,
   "metadata": {},
   "outputs": [
    {
     "data": {
      "text/html": [
       "<div>\n",
       "<style>\n",
       "    .dataframe thead tr:only-child th {\n",
       "        text-align: right;\n",
       "    }\n",
       "\n",
       "    .dataframe thead th {\n",
       "        text-align: left;\n",
       "    }\n",
       "\n",
       "    .dataframe tbody tr th {\n",
       "        vertical-align: top;\n",
       "    }\n",
       "</style>\n",
       "<table border=\"1\" class=\"dataframe\">\n",
       "  <thead>\n",
       "    <tr style=\"text-align: right;\">\n",
       "      <th></th>\n",
       "      <th>population</th>\n",
       "      <th>spayed</th>\n",
       "      <th>removed</th>\n",
       "    </tr>\n",
       "    <tr>\n",
       "      <th>year</th>\n",
       "      <th></th>\n",
       "      <th></th>\n",
       "      <th></th>\n",
       "    </tr>\n",
       "  </thead>\n",
       "  <tbody>\n",
       "    <tr>\n",
       "      <th>2017</th>\n",
       "      <td>72674.0</td>\n",
       "      <td>NaN</td>\n",
       "      <td>NaN</td>\n",
       "    </tr>\n",
       "    <tr>\n",
       "      <th>2016</th>\n",
       "      <td>NaN</td>\n",
       "      <td>487.0</td>\n",
       "      <td>3259.0</td>\n",
       "    </tr>\n",
       "    <tr>\n",
       "      <th>2015</th>\n",
       "      <td>58150.0</td>\n",
       "      <td>469.0</td>\n",
       "      <td>3812.0</td>\n",
       "    </tr>\n",
       "    <tr>\n",
       "      <th>2014</th>\n",
       "      <td>49209.0</td>\n",
       "      <td>40.0</td>\n",
       "      <td>1857.0</td>\n",
       "    </tr>\n",
       "    <tr>\n",
       "      <th>2013</th>\n",
       "      <td>40605.0</td>\n",
       "      <td>332.0</td>\n",
       "      <td>5452.0</td>\n",
       "    </tr>\n",
       "  </tbody>\n",
       "</table>\n",
       "</div>"
      ],
      "text/plain": [
       "       population  spayed  removed\n",
       "year                              \n",
       "2017      72674.0     NaN      NaN\n",
       "2016          NaN   487.0   3259.0\n",
       "2015      58150.0   469.0   3812.0\n",
       "2014      49209.0    40.0   1857.0\n",
       "2013      40605.0   332.0   5452.0"
      ]
     },
     "execution_count": 37,
     "metadata": {},
     "output_type": "execute_result"
    }
   ],
   "source": [
    "data.head()"
   ]
  },
  {
   "cell_type": "code",
   "execution_count": 38,
   "metadata": {
    "collapsed": true
   },
   "outputs": [],
   "source": [
    "data.columns = ['population', 'spayed', 'removed']"
   ]
  },
  {
   "cell_type": "code",
   "execution_count": 39,
   "metadata": {},
   "outputs": [
    {
     "data": {
      "text/plain": [
       "1996"
      ]
     },
     "execution_count": 39,
     "metadata": {},
     "output_type": "execute_result"
    }
   ],
   "source": [
    "data.index[-1]"
   ]
  },
  {
   "cell_type": "code",
   "execution_count": null,
   "metadata": {
    "collapsed": true
   },
   "outputs": [],
   "source": [
    "######\n",
    "#this is the first model, using a 20% growth rate \n",
    "######"
   ]
  },
  {
   "cell_type": "code",
   "execution_count": 142,
   "metadata": {
    "collapsed": true
   },
   "outputs": [],
   "source": [
    "population = data.population\n",
    "removal = data.removed\n",
    "#first_year = data.index[-1] #these #s are because the data is backwards \n",
    "first_year = 2009\n",
    "last_year = data.index[0]\n",
    "initial_population = data['population'][2009] \n",
    "growth_rate= 0.2"
   ]
  },
  {
   "cell_type": "code",
   "execution_count": 143,
   "metadata": {},
   "outputs": [],
   "source": [
    "system = System(t0 = first_year, p0 = initial_population, t_end = last_year, growth_rate = growth_rate)"
   ]
  },
  {
   "cell_type": "code",
   "execution_count": 144,
   "metadata": {
    "collapsed": true
   },
   "outputs": [],
   "source": [
    "def run_simulation3(system):\n",
    "    \"\"\"Runs a proportional growth model.\n",
    "    \n",
    "    Adds TimeSeries to `system` as `results`.\n",
    "    \n",
    "    system: System object with t0, t_end, p0,\n",
    "            birth_rate and death_rate\n",
    "    \"\"\"\n",
    "    results = TimeSeries()\n",
    "    results[system.t0] = system.p0\n",
    "    for t in linrange(system.t0, system.t_end):\n",
    "        growth = system.growth_rate * results[t]\n",
    "        results[t+1] = results[t] + growth - data['removed'][t]\n",
    "       # population_before = results[t] - data['removed'][t]\n",
    "        #results[t+1] = population_before + (system.growth_rate * population_before)\n",
    "    system.results = results"
   ]
  },
  {
   "cell_type": "code",
   "execution_count": 145,
   "metadata": {
    "collapsed": true
   },
   "outputs": [],
   "source": [
    "run_simulation3(system)"
   ]
  },
  {
   "cell_type": "code",
   "execution_count": null,
   "metadata": {
    "collapsed": true
   },
   "outputs": [],
   "source": []
  },
  {
   "cell_type": "code",
   "execution_count": 146,
   "metadata": {},
   "outputs": [
    {
     "data": {
      "image/png": "[encoded data removed]",
      "text/plain": [
       "<matplotlib.figure.Figure at 0x11ca3d748>"
      ]
     },
     "metadata": {},
     "output_type": "display_data"
    }
   ],
   "source": [
    "plot(system.results, 'bo', label = 'predicted population')\n",
    "plot(population, 'ro', label='actual recorded population')\n",
    "legend()\n",
    "\n",
    "\n",
    "xlim(2009, 2017);"
   ]
  },
  {
   "cell_type": "code",
   "execution_count": 211,
   "metadata": {
    "scrolled": true
   },
   "outputs": [
    {
     "data": {
      "image/png": "[encoded data removed]",
      "text/plain": [
       "<matplotlib.figure.Figure at 0x11dc81a90>"
      ]
     },
     "metadata": {},
     "output_type": "display_data"
    }
   ],
   "source": [
    "######\n",
    "#this is a graph of how wrong the model is over time. \n",
    "stuff = population - system.results\n",
    "plot(stuff, 'bo', label = 'predicted')\n"
   ]
  },
  {
   "cell_type": "code",
   "execution_count": null,
   "metadata": {
    "collapsed": true
   },
   "outputs": [],
   "source": [
    "###########\n",
    "#this commented out stuff is a model with a higher growth rate for the second set \n",
    "###########"
   ]
  },
  {
   "cell_type": "code",
   "execution_count": 51,
   "metadata": {
    "collapsed": true
   },
   "outputs": [],
   "source": [
    "\n",
    "# population = data.population\n",
    "# removal = data.removed\n",
    "# #first_year = data.index[-1] #these #s are because the data is backwards \n",
    "# first_year = 2009\n",
    "# last_year = data.index[0]\n",
    "# initial_population = data['population'][2009] \n",
    "# growth1= 0.2\n",
    "# growth2 = 0.275\n"
   ]
  },
  {
   "cell_type": "code",
   "execution_count": 52,
   "metadata": {
    "collapsed": true
   },
   "outputs": [],
   "source": [
    "# system = System(t0 = first_year, p0 = initial_population, t_end = last_year, growth1 = growth1, growth2=growth2)"
   ]
  },
  {
   "cell_type": "code",
   "execution_count": 53,
   "metadata": {
    "collapsed": true
   },
   "outputs": [],
   "source": [
    "# def run_simulation4(system):\n",
    "#     \"\"\"Runs a proportional growth model.\n",
    "    \n",
    "#     Adds TimeSeries to `system` as `results`.\n",
    "    \n",
    "#     system: System object with t0, t_end, p0,\n",
    "#             birth_rate and death_rate\n",
    "#     \"\"\"\n",
    "#     results = TimeSeries()\n",
    "#     results[system.t0] = system.p0\n",
    "#     for t in linrange(system.t0, system.t_end):\n",
    "#         if t < 2012:\n",
    "#             growth = system.growth1 * results[t]\n",
    "#             results[t+1] = results[t] + growth - data['removed'][t]\n",
    "#         else:\n",
    "#             growth = system.growth2 * results[t]\n",
    "#             results[t+1] = results[t] + growth - data['removed'][t]\n",
    "#     system.results = results"
   ]
  },
  {
   "cell_type": "code",
   "execution_count": 54,
   "metadata": {
    "collapsed": true
   },
   "outputs": [],
   "source": [
    "#run_simulation4(system)"
   ]
  },
  {
   "cell_type": "code",
   "execution_count": null,
   "metadata": {
    "collapsed": true
   },
   "outputs": [],
   "source": [
    "####\n",
    "#this is a plot of all the historic data plus the above model "
   ]
  },
  {
   "cell_type": "code",
   "execution_count": 57,
   "metadata": {
    "scrolled": true
   },
   "outputs": [
    {
     "data": {
      "image/png": "[encoded data removed]",
      "text/plain": [
       "<matplotlib.figure.Figure at 0x11a5e7198>"
      ]
     },
     "metadata": {},
     "output_type": "display_data"
    }
   ],
   "source": [
    "plot(system.results, 'bo', label = 'predicted')\n",
    "plot(population, 'ro', label='horses and burros')\n",
    "\n",
    "legend()"
   ]
  },
  {
   "cell_type": "code",
   "execution_count": 153,
   "metadata": {
    "collapsed": true
   },
   "outputs": [],
   "source": [
    "###############\n",
    "#this one is about adding stochasticity to the growth rate on a gaussian dist \n",
    "###############"
   ]
  },
  {
   "cell_type": "code",
   "execution_count": 152,
   "metadata": {
    "collapsed": true
   },
   "outputs": [],
   "source": [
    "# mean and standard deviation assuming upper and lower growth rate bound 2 sd from mean\n",
    "mean, standard_dev = 0.156, 0.0085 "
   ]
  },
  {
   "cell_type": "code",
   "execution_count": 156,
   "metadata": {},
   "outputs": [],
   "source": [
    "rate = np.random.normal (mean, standard_dev, 10)"
   ]
  },
  {
   "cell_type": "code",
   "execution_count": 157,
   "metadata": {},
   "outputs": [
    {
     "data": {
      "text/plain": [
       "array([ 0.16181014,  0.14957447,  0.16573149,  0.15551129,  0.15818961,\n",
       "        0.14578352,  0.15549106,  0.14957218,  0.16347627,  0.16660454])"
      ]
     },
     "execution_count": 157,
     "metadata": {},
     "output_type": "execute_result"
    }
   ],
   "source": [
    "rate "
   ]
  },
  {
   "cell_type": "code",
   "execution_count": 175,
   "metadata": {
    "collapsed": true
   },
   "outputs": [],
   "source": [
    "population = data.population\n",
    "removal = data.removed\n",
    "#first_year = data.index[-1] #these #s are because the data is backwards \n",
    "first_year = 2009\n",
    "last_year = data.index[0]\n",
    "initial_population = data['population'][2009] \n",
    "mean_growth_rate = 0.25 #0.156 # mean growth rate calculated from \"doubling every 4-5 years\" stat\n",
    "standard_dev_growth = 0.0085 #standard deviation of growth rate assuming upper and lower growth rate bound 2 sd from mean"
   ]
  },
  {
   "cell_type": "code",
   "execution_count": 176,
   "metadata": {
    "collapsed": true
   },
   "outputs": [],
   "source": [
    "system = System(t0 = first_year, p0 = initial_population, t_end = last_year, \n",
    "                mean_growth = mean_growth_rate, \n",
    "                sd_growth = standard_dev_growth)"
   ]
  },
  {
   "cell_type": "code",
   "execution_count": 177,
   "metadata": {},
   "outputs": [],
   "source": [
    "def growth_rate(mean = system.mean_growth, sd = system.sd_growth): \n",
    "    rate = np.random.normal (mean, sd) \n",
    "    return rate "
   ]
  },
  {
   "cell_type": "code",
   "execution_count": 178,
   "metadata": {
    "collapsed": true
   },
   "outputs": [],
   "source": [
    "def run_simulation4(system):\n",
    "    \"\"\"Runs a proportional growth model.\n",
    "    \n",
    "    Adds TimeSeries to `system` as `results`.\n",
    "    \n",
    "    system: System object with t0, t_end, p0,\n",
    "            birth_rate and death_rate\n",
    "    \"\"\"\n",
    "    results = TimeSeries()\n",
    "    results[system.t0] = system.p0\n",
    "    for t in linrange(system.t0, system.t_end):\n",
    "        growth = growth_rate() * results[t]\n",
    "        results[t+1] = results[t] + growth - data['removed'][t]\n",
    "    system.results = results"
   ]
  },
  {
   "cell_type": "code",
   "execution_count": 179,
   "metadata": {},
   "outputs": [
    {
     "data": {
      "image/png": "[encoded data removed]",
      "text/plain": [
       "<matplotlib.figure.Figure at 0x11d0dfda0>"
      ]
     },
     "metadata": {},
     "output_type": "display_data"
    }
   ],
   "source": [
    "run_simulation4(system)\n",
    "plot(system.results, 'bo', label = 'predicted population')\n",
    "plot(population, 'ro', label='actual recorded population')\n",
    "legend()\n",
    "xlim(2009, 2017);"
   ]
  },
  {
   "cell_type": "code",
   "execution_count": null,
   "metadata": {
    "collapsed": true
   },
   "outputs": [],
   "source": [
    "##############\n",
    "#this one is about adding fertility treatment \n",
    "##############"
   ]
  },
  {
   "cell_type": "code",
   "execution_count": 202,
   "metadata": {
    "collapsed": true
   },
   "outputs": [],
   "source": [
    "population = data.population\n",
    "removal = data.removed\n",
    "#first_year = data.index[-1] #these #s are because the data is backwards \n",
    "first_year = 2009\n",
    "last_year = data.index[0]\n",
    "initial_population = data['population'][2009] \n",
    "mean_growth_rate = 0.25 #0.156 # mean growth rate calculated from \"doubling every 4-5 years\" stat\n",
    "#standard deviation of growth rate assuming upper and lower growth rate bound 2 sd from mean\n",
    "standard_dev_growth = 0.0085 \n",
    "fertility_treat_rate = 0.5 #also referred to here as \"spay_rate,\" although it only lasts 1 year "
   ]
  },
  {
   "cell_type": "code",
   "execution_count": 203,
   "metadata": {},
   "outputs": [],
   "source": [
    "system = System(t0 = first_year, p0 = initial_population, t_end = last_year, \n",
    "                mean_growth = mean_growth_rate, \n",
    "                sd_growth = standard_dev_growth, spay_rate = fertility_treat_rate)"
   ]
  },
  {
   "cell_type": "code",
   "execution_count": 204,
   "metadata": {
    "collapsed": true
   },
   "outputs": [],
   "source": [
    "def growth_rate(mean = system.mean_growth, sd = system.sd_growth): \n",
    "    rate = np.random.normal (mean, sd) \n",
    "    return rate "
   ]
  },
  {
   "cell_type": "code",
   "execution_count": 210,
   "metadata": {},
   "outputs": [
    {
     "name": "stdout",
     "output_type": "stream",
     "text": [
      "50.0\n"
     ]
    }
   ],
   "source": [
    "system.spay_rate\n",
    "spayed = system.spay_rate * 100\n",
    "reproducing = 100 - spayed\n",
    "print (reproducing)"
   ]
  },
  {
   "cell_type": "code",
   "execution_count": 206,
   "metadata": {},
   "outputs": [],
   "source": [
    "def run_simulation5(system):\n",
    "    \"\"\"Runs a proportional growth model.\n",
    "    \n",
    "    Adds TimeSeries to `system` as `results`.\n",
    "    \n",
    "    system: System object with t0, t_end, p0,\n",
    "            birth_rate and death_rate\n",
    "    \"\"\"\n",
    "    results = TimeSeries()\n",
    "    results[system.t0] = system.p0\n",
    "    for t in linrange(system.t0, system.t_end):\n",
    "        spayed = system.spay_rate * results[t]\n",
    "        reproducing = results[t] - spayed\n",
    "        growth = growth_rate() * reproducing\n",
    "        results[t+1] = results[t] + growth - data['removed'][t] + spayed\n",
    "    system.results = results"
   ]
  },
  {
   "cell_type": "code",
   "execution_count": 207,
   "metadata": {},
   "outputs": [
    {
     "data": {
      "image/png": "[encoded data removed]",
      "text/plain": [
       "<matplotlib.figure.Figure at 0x11d903ba8>"
      ]
     },
     "metadata": {},
     "output_type": "display_data"
    }
   ],
   "source": [
    "run_simulation4(system)\n",
    "plot(system.results, 'bo', label = 'predicted population')\n",
    "plot(population, 'ro', label='actual recorded population')\n",
    "legend()\n",
    "xlim(2009, 2017);"
   ]
  },
  {
   "cell_type": "code",
   "execution_count": null,
   "metadata": {
    "collapsed": true
   },
   "outputs": [],
   "source": []
  }
 ],
 "metadata": {
  "kernelspec": {
   "display_name": "Python 3",
   "language": "python",
   "name": "python3"
  },
  "language_info": {
   "codemirror_mode": {
    "name": "ipython",
    "version": 3
   },
   "file_extension": ".py",
   "mimetype": "text/x-python",
   "name": "python",
   "nbconvert_exporter": "python",
   "pygments_lexer": "ipython3",
   "version": "3.6.1"
  }
 },
 "nbformat": 4,
 "nbformat_minor": 1
}
